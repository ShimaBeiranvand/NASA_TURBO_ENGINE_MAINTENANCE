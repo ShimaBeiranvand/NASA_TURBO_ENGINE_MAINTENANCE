{
  "cells": [
    {
      "cell_type": "code",
      "execution_count": null,
      "metadata": {
        "id": "sMG8Dq5_hAYh"
      },
      "outputs": [],
      "source": [
        "# Responsible AI in Predictive Maintenance — Using NASA Turbofan Engine Degradation Dataset — Using sklearn"
      ]
    },
    {
      "cell_type": "code",
      "execution_count": null,
      "metadata": {
        "id": "_sUKOEAeQJRe"
      },
      "outputs": [],
      "source": [
        "# address:\n",
        "# https://balabala76.medium.com/responsible-ai-in-predictive-maintenance-using-nasa-turbofan-engine-degradation-dataset-using-e386b49355e5"
      ]
    },
    {
      "cell_type": "code",
      "execution_count": null,
      "metadata": {
        "id": "7F5opkcRo9X8"
      },
      "outputs": [],
      "source": [
        "# downloading the data and store it in a specific file"
      ]
    },
    {
      "cell_type": "code",
      "execution_count": null,
      "metadata": {
        "id": "pZOCRJD0k13K"
      },
      "outputs": [],
      "source": [
        "!mkdir /content/drive/MyDrive/NASA_data_file"
      ]
    },
    {
      "cell_type": "code",
      "execution_count": null,
      "metadata": {
        "colab": {
          "base_uri": "https://localhost:8080/"
        },
        "id": "Ad3icFkphKI7",
        "outputId": "a8e2a5a7-c24b-4a23-a759-a8fc645f808d"
      },
      "outputs": [
        {
          "name": "stdout",
          "output_type": "stream",
          "text": [
            "--2024-06-08 11:21:54--  https://data.nasa.gov/download/ff5v-kuh6/application%2Fzip\n",
            "Resolving data.nasa.gov (data.nasa.gov)... 128.102.186.77, 2001:4d0:6311:2c05:60b0:5ad8:1210:ea07\n",
            "Connecting to data.nasa.gov (data.nasa.gov)|128.102.186.77|:443... connected.\n",
            "HTTP request sent, awaiting response... 302 Found\n",
            "Location: https://data.nasa.gov/api/views/ff5v-kuh6/files/680c0016-00ca-47a5-a4b9-e6c9437f8409?filename=CMAPSSData.zip [following]\n",
            "--2024-06-08 11:21:54--  https://data.nasa.gov/api/views/ff5v-kuh6/files/680c0016-00ca-47a5-a4b9-e6c9437f8409?filename=CMAPSSData.zip\n",
            "Reusing existing connection to data.nasa.gov:443.\n",
            "HTTP request sent, awaiting response... 200 OK\n",
            "Length: unspecified [application/octet-stream]\n",
            "Saving to: ‘/content/drive/MyDrive/NASA_data_file/application%2Fzip’\n",
            "\n",
            "application%2Fzip       [     <=>            ]  11.85M  13.1MB/s    in 0.9s    \n",
            "\n",
            "2024-06-08 11:21:56 (13.1 MB/s) - ‘/content/drive/MyDrive/NASA_data_file/application%2Fzip’ saved [12425978]\n",
            "\n"
          ]
        }
      ],
      "source": [
        "!wget -P /content/drive/MyDrive/NASA_data_file https://data.nasa.gov/download/ff5v-kuh6/application%2Fzip\n"
      ]
    },
    {
      "cell_type": "code",
      "execution_count": null,
      "metadata": {
        "id": "HaXvmm-9pGpX"
      },
      "outputs": [],
      "source": [
        "# create a python file and write the codes there"
      ]
    },
    {
      "cell_type": "code",
      "execution_count": null,
      "metadata": {
        "id": "m5SpQmHShKMC"
      },
      "outputs": [],
      "source": [
        "!mkdir /content/drive/MyDrive/NASA_code"
      ]
    },
    {
      "cell_type": "code",
      "execution_count": null,
      "metadata": {
        "id": "hKZFza2vhKOe"
      },
      "outputs": [],
      "source": [
        "!touch /content/drive/MyDrive/NASA_code/model.py"
      ]
    },
    {
      "cell_type": "code",
      "source": [
        "# creating train.yaml"
      ],
      "metadata": {
        "id": "mcGDMOdCuik6"
      },
      "execution_count": null,
      "outputs": []
    },
    {
      "cell_type": "code",
      "execution_count": null,
      "metadata": {
        "colab": {
          "base_uri": "https://localhost:8080/"
        },
        "id": "CfS5W2RP5c4m",
        "outputId": "ba5478c7-99f3-42ea-d827-38140a8910c1"
      },
      "outputs": [
        {
          "name": "stdout",
          "output_type": "stream",
          "text": [
            "Requirement already satisfied: pyyaml in /usr/local/lib/python3.10/dist-packages (6.0.1)\n"
          ]
        }
      ],
      "source": [
        "!pip install pyyaml"
      ]
    },
    {
      "cell_type": "code",
      "execution_count": null,
      "metadata": {
        "id": "ZnmDXmd05c_Y"
      },
      "outputs": [],
      "source": [
        "!echo \"apiVersion: apps/v1\" > /content/drive/MyDrive/NASA_code/train.yml\n"
      ]
    },
    {
      "cell_type": "code",
      "source": [
        "# downloading the dataset and locating it in a specific directory"
      ],
      "metadata": {
        "id": "ZnHuxFULu_l1"
      },
      "execution_count": null,
      "outputs": []
    },
    {
      "cell_type": "code",
      "execution_count": null,
      "metadata": {
        "id": "Tw-7BX2KIaT-"
      },
      "outputs": [],
      "source": [
        "!mkdir /content/drive/MyDrive/NASA_data_file/unpacked_data"
      ]
    },
    {
      "cell_type": "code",
      "execution_count": null,
      "metadata": {
        "colab": {
          "base_uri": "https://localhost:8080/"
        },
        "id": "mfpHZCDEICCK",
        "outputId": "2304bb52-31c0-4d10-9cff-331c75aa9cdf"
      },
      "outputs": [
        {
          "name": "stdout",
          "output_type": "stream",
          "text": [
            "Archive:  /content/drive/MyDrive/NASA_data_file/application%2Fzip\n",
            "  inflating: /content/drive/MyDrive/NASA_data_file/unpacked_data/Damage Propagation Modeling.pdf  \n",
            "  inflating: /content/drive/MyDrive/NASA_data_file/unpacked_data/readme.txt  \n",
            "  inflating: /content/drive/MyDrive/NASA_data_file/unpacked_data/RUL_FD001.txt  \n",
            "  inflating: /content/drive/MyDrive/NASA_data_file/unpacked_data/RUL_FD002.txt  \n",
            "  inflating: /content/drive/MyDrive/NASA_data_file/unpacked_data/RUL_FD003.txt  \n",
            "  inflating: /content/drive/MyDrive/NASA_data_file/unpacked_data/RUL_FD004.txt  \n",
            "  inflating: /content/drive/MyDrive/NASA_data_file/unpacked_data/test_FD001.txt  \n",
            "  inflating: /content/drive/MyDrive/NASA_data_file/unpacked_data/test_FD002.txt  \n",
            "  inflating: /content/drive/MyDrive/NASA_data_file/unpacked_data/test_FD003.txt  \n",
            "  inflating: /content/drive/MyDrive/NASA_data_file/unpacked_data/test_FD004.txt  \n",
            "  inflating: /content/drive/MyDrive/NASA_data_file/unpacked_data/train_FD001.txt  \n",
            "  inflating: /content/drive/MyDrive/NASA_data_file/unpacked_data/train_FD002.txt  \n",
            "  inflating: /content/drive/MyDrive/NASA_data_file/unpacked_data/train_FD003.txt  \n",
            "  inflating: /content/drive/MyDrive/NASA_data_file/unpacked_data/train_FD004.txt  \n"
          ]
        }
      ],
      "source": [
        "!unzip /content/drive/MyDrive/NASA_data_file/application%2Fzip -d /content/drive/MyDrive/NASA_data_file/unpacked_data"
      ]
    },
    {
      "cell_type": "code",
      "source": [
        "# creating conda.yaml and outputs directory"
      ],
      "metadata": {
        "id": "MSvDlWR0vLSA"
      },
      "execution_count": null,
      "outputs": []
    },
    {
      "cell_type": "code",
      "source": [
        "!mkdir /content/drive/MyDrive/NASA_code/outputs"
      ],
      "metadata": {
        "colab": {
          "base_uri": "https://localhost:8080/"
        },
        "id": "axtNMdnJwYcq",
        "outputId": "ff600209-e316-4a32-eb8b-9facde2d5070"
      },
      "execution_count": null,
      "outputs": [
        {
          "output_type": "stream",
          "name": "stdout",
          "text": [
            "mkdir: cannot create directory ‘/content/drive/MyDrive/NASA_code/outputs’: File exists\n"
          ]
        }
      ]
    },
    {
      "cell_type": "code",
      "source": [
        "!echo \"apiVersion: apps/v1\" > /content/drive/MyDrive/NASA_code/outputs/conda.yaml\n"
      ],
      "metadata": {
        "id": "RcxJbn-KxGeq"
      },
      "execution_count": null,
      "outputs": []
    },
    {
      "cell_type": "code",
      "execution_count": null,
      "metadata": {
        "id": "wwWeW89OhKTp"
      },
      "outputs": [],
      "source": [
        "# runnig the project"
      ]
    },
    {
      "cell_type": "code",
      "execution_count": null,
      "metadata": {
        "colab": {
          "base_uri": "https://localhost:8080/"
        },
        "id": "O0O6y-E8OcOp",
        "outputId": "785c53ad-f58f-4fd7-c7a3-2f1f5cdcf357"
      },
      "outputs": [
        {
          "output_type": "stream",
          "name": "stdout",
          "text": [
            "Collecting mltable\n",
            "  Downloading mltable-1.6.1-py3-none-any.whl (189 kB)\n",
            "\u001b[2K     \u001b[90m━━━━━━━━━━━━━━━━━━━━━━━━━━━━━━━━━━━━━━━━\u001b[0m \u001b[32m189.4/189.4 kB\u001b[0m \u001b[31m4.8 MB/s\u001b[0m eta \u001b[36m0:00:00\u001b[0m\n",
            "\u001b[?25hCollecting azureml-dataprep[parquet]<5.2.0a,>=5.1.0a (from mltable)\n",
            "  Downloading azureml_dataprep-5.1.6-py3-none-any.whl (252 kB)\n",
            "\u001b[2K     \u001b[90m━━━━━━━━━━━━━━━━━━━━━━━━━━━━━━━━━━━━━━━━\u001b[0m \u001b[32m252.4/252.4 kB\u001b[0m \u001b[31m10.4 MB/s\u001b[0m eta \u001b[36m0:00:00\u001b[0m\n",
            "\u001b[?25hRequirement already satisfied: pyyaml<7.0.0,>=5.1.0 in /usr/local/lib/python3.10/dist-packages (from mltable) (6.0.1)\n",
            "Requirement already satisfied: jsonschema<5.0.0,>=4.0.0 in /usr/local/lib/python3.10/dist-packages (from mltable) (4.19.2)\n",
            "Collecting msrest>=0.6.18 (from mltable)\n",
            "  Downloading msrest-0.7.1-py3-none-any.whl (85 kB)\n",
            "\u001b[2K     \u001b[90m━━━━━━━━━━━━━━━━━━━━━━━━━━━━━━━━━━━━━━━━\u001b[0m \u001b[32m85.4/85.4 kB\u001b[0m \u001b[31m7.4 MB/s\u001b[0m eta \u001b[36m0:00:00\u001b[0m\n",
            "\u001b[?25hCollecting azure-core!=1.22.0,<2.0.0,>=1.8.0 (from mltable)\n",
            "  Downloading azure_core-1.30.2-py3-none-any.whl (194 kB)\n",
            "\u001b[2K     \u001b[90m━━━━━━━━━━━━━━━━━━━━━━━━━━━━━━━━━━━━━━━━\u001b[0m \u001b[32m194.3/194.3 kB\u001b[0m \u001b[31m11.0 MB/s\u001b[0m eta \u001b[36m0:00:00\u001b[0m\n",
            "\u001b[?25hCollecting azure-mgmt-core<2.0.0,>=1.3.0 (from mltable)\n",
            "  Downloading azure_mgmt_core-1.4.0-py3-none-any.whl (27 kB)\n",
            "Requirement already satisfied: python-dateutil<3.0.0,>=2.7.3 in /usr/local/lib/python3.10/dist-packages (from mltable) (2.8.2)\n",
            "Requirement already satisfied: cryptography!=1.9,!=2.0.*,!=2.1.*,!=2.2.* in /usr/local/lib/python3.10/dist-packages (from mltable) (42.0.8)\n",
            "Requirement already satisfied: PyJWT<3.0.0 in /usr/lib/python3/dist-packages (from mltable) (2.3.0)\n",
            "Requirement already satisfied: pytz in /usr/local/lib/python3.10/dist-packages (from mltable) (2023.4)\n",
            "Requirement already satisfied: requests>=2.21.0 in /usr/local/lib/python3.10/dist-packages (from azure-core!=1.22.0,<2.0.0,>=1.8.0->mltable) (2.31.0)\n",
            "Requirement already satisfied: six>=1.11.0 in /usr/local/lib/python3.10/dist-packages (from azure-core!=1.22.0,<2.0.0,>=1.8.0->mltable) (1.16.0)\n",
            "Requirement already satisfied: typing-extensions>=4.6.0 in /usr/local/lib/python3.10/dist-packages (from azure-core!=1.22.0,<2.0.0,>=1.8.0->mltable) (4.12.2)\n",
            "Collecting azureml-dataprep-native<42.0.0,>=41.0.0 (from azureml-dataprep[parquet]<5.2.0a,>=5.1.0a->mltable)\n",
            "  Downloading azureml_dataprep_native-41.0.0-cp310-cp310-manylinux1_x86_64.whl (187 kB)\n",
            "\u001b[2K     \u001b[90m━━━━━━━━━━━━━━━━━━━━━━━━━━━━━━━━━━━━━━━━\u001b[0m \u001b[32m187.7/187.7 kB\u001b[0m \u001b[31m10.8 MB/s\u001b[0m eta \u001b[36m0:00:00\u001b[0m\n",
            "\u001b[?25hCollecting azureml-dataprep-rslex~=2.22.2dev0 (from azureml-dataprep[parquet]<5.2.0a,>=5.1.0a->mltable)\n",
            "  Downloading azureml_dataprep_rslex-2.22.2-cp310-cp310-manylinux_2_17_x86_64.manylinux2014_x86_64.whl (24.7 MB)\n",
            "\u001b[2K     \u001b[90m━━━━━━━━━━━━━━━━━━━━━━━━━━━━━━━━━━━━━━━━\u001b[0m \u001b[32m24.7/24.7 MB\u001b[0m \u001b[31m21.5 MB/s\u001b[0m eta \u001b[36m0:00:00\u001b[0m\n",
            "\u001b[?25hRequirement already satisfied: cloudpickle<3.0.0,>=1.1.0 in /usr/local/lib/python3.10/dist-packages (from azureml-dataprep[parquet]<5.2.0a,>=5.1.0a->mltable) (2.2.1)\n",
            "Collecting azure-identity>=1.7.0 (from azureml-dataprep[parquet]<5.2.0a,>=5.1.0a->mltable)\n",
            "  Downloading azure_identity-1.16.1-py3-none-any.whl (166 kB)\n",
            "\u001b[2K     \u001b[90m━━━━━━━━━━━━━━━━━━━━━━━━━━━━━━━━━━━━━━━━\u001b[0m \u001b[32m166.7/166.7 kB\u001b[0m \u001b[31m18.3 MB/s\u001b[0m eta \u001b[36m0:00:00\u001b[0m\n",
            "\u001b[?25hRequirement already satisfied: pyarrow>=0.17.0 in /usr/local/lib/python3.10/dist-packages (from azureml-dataprep[parquet]<5.2.0a,>=5.1.0a->mltable) (14.0.2)\n",
            "Requirement already satisfied: cffi>=1.12 in /usr/local/lib/python3.10/dist-packages (from cryptography!=1.9,!=2.0.*,!=2.1.*,!=2.2.*->mltable) (1.16.0)\n",
            "Requirement already satisfied: attrs>=22.2.0 in /usr/local/lib/python3.10/dist-packages (from jsonschema<5.0.0,>=4.0.0->mltable) (23.2.0)\n",
            "Requirement already satisfied: jsonschema-specifications>=2023.03.6 in /usr/local/lib/python3.10/dist-packages (from jsonschema<5.0.0,>=4.0.0->mltable) (2023.12.1)\n",
            "Requirement already satisfied: referencing>=0.28.4 in /usr/local/lib/python3.10/dist-packages (from jsonschema<5.0.0,>=4.0.0->mltable) (0.35.1)\n",
            "Requirement already satisfied: rpds-py>=0.7.1 in /usr/local/lib/python3.10/dist-packages (from jsonschema<5.0.0,>=4.0.0->mltable) (0.18.1)\n",
            "Requirement already satisfied: certifi>=2017.4.17 in /usr/local/lib/python3.10/dist-packages (from msrest>=0.6.18->mltable) (2024.6.2)\n",
            "Collecting isodate>=0.6.0 (from msrest>=0.6.18->mltable)\n",
            "  Downloading isodate-0.6.1-py2.py3-none-any.whl (41 kB)\n",
            "\u001b[2K     \u001b[90m━━━━━━━━━━━━━━━━━━━━━━━━━━━━━━━━━━━━━━━━\u001b[0m \u001b[32m41.7/41.7 kB\u001b[0m \u001b[31m5.4 MB/s\u001b[0m eta \u001b[36m0:00:00\u001b[0m\n",
            "\u001b[?25hRequirement already satisfied: requests-oauthlib>=0.5.0 in /usr/local/lib/python3.10/dist-packages (from msrest>=0.6.18->mltable) (1.3.1)\n",
            "Collecting msal>=1.24.0 (from azure-identity>=1.7.0->azureml-dataprep[parquet]<5.2.0a,>=5.1.0a->mltable)\n",
            "  Downloading msal-1.28.1-py3-none-any.whl (103 kB)\n",
            "\u001b[2K     \u001b[90m━━━━━━━━━━━━━━━━━━━━━━━━━━━━━━━━━━━━━━━━\u001b[0m \u001b[32m103.0/103.0 kB\u001b[0m \u001b[31m12.5 MB/s\u001b[0m eta \u001b[36m0:00:00\u001b[0m\n",
            "\u001b[?25hCollecting msal-extensions>=0.3.0 (from azure-identity>=1.7.0->azureml-dataprep[parquet]<5.2.0a,>=5.1.0a->mltable)\n",
            "  Downloading msal_extensions-1.1.0-py3-none-any.whl (19 kB)\n",
            "Requirement already satisfied: pycparser in /usr/local/lib/python3.10/dist-packages (from cffi>=1.12->cryptography!=1.9,!=2.0.*,!=2.1.*,!=2.2.*->mltable) (2.22)\n",
            "Requirement already satisfied: numpy>=1.16.6 in /usr/local/lib/python3.10/dist-packages (from pyarrow>=0.17.0->azureml-dataprep[parquet]<5.2.0a,>=5.1.0a->mltable) (1.25.2)\n",
            "Requirement already satisfied: charset-normalizer<4,>=2 in /usr/local/lib/python3.10/dist-packages (from requests>=2.21.0->azure-core!=1.22.0,<2.0.0,>=1.8.0->mltable) (3.3.2)\n",
            "Requirement already satisfied: idna<4,>=2.5 in /usr/local/lib/python3.10/dist-packages (from requests>=2.21.0->azure-core!=1.22.0,<2.0.0,>=1.8.0->mltable) (3.7)\n",
            "Requirement already satisfied: urllib3<3,>=1.21.1 in /usr/local/lib/python3.10/dist-packages (from requests>=2.21.0->azure-core!=1.22.0,<2.0.0,>=1.8.0->mltable) (2.0.7)\n",
            "Requirement already satisfied: oauthlib>=3.0.0 in /usr/local/lib/python3.10/dist-packages (from requests-oauthlib>=0.5.0->msrest>=0.6.18->mltable) (3.2.2)\n",
            "Requirement already satisfied: packaging in /usr/local/lib/python3.10/dist-packages (from msal-extensions>=0.3.0->azure-identity>=1.7.0->azureml-dataprep[parquet]<5.2.0a,>=5.1.0a->mltable) (24.1)\n",
            "Collecting portalocker<3,>=1.0 (from msal-extensions>=0.3.0->azure-identity>=1.7.0->azureml-dataprep[parquet]<5.2.0a,>=5.1.0a->mltable)\n",
            "  Downloading portalocker-2.8.2-py3-none-any.whl (17 kB)\n",
            "Installing collected packages: azureml-dataprep-rslex, azureml-dataprep-native, portalocker, isodate, azure-core, msrest, azure-mgmt-core, msal, msal-extensions, azure-identity, azureml-dataprep, mltable\n",
            "Successfully installed azure-core-1.30.2 azure-identity-1.16.1 azure-mgmt-core-1.4.0 azureml-dataprep-5.1.6 azureml-dataprep-native-41.0.0 azureml-dataprep-rslex-2.22.2 isodate-0.6.1 mltable-1.6.1 msal-1.28.1 msal-extensions-1.1.0 msrest-0.7.1 portalocker-2.8.2\n"
          ]
        }
      ],
      "source": [
        "!pip install mltable"
      ]
    },
    {
      "cell_type": "code",
      "execution_count": null,
      "metadata": {
        "colab": {
          "base_uri": "https://localhost:8080/"
        },
        "id": "4_as0ubHOcLP",
        "outputId": "66db6fff-ec4f-4ee6-f408-4c5f7c093c85"
      },
      "outputs": [
        {
          "output_type": "stream",
          "name": "stdout",
          "text": [
            "Collecting mlflow\n",
            "  Downloading mlflow-2.13.2-py3-none-any.whl (25.0 MB)\n",
            "\u001b[2K     \u001b[90m━━━━━━━━━━━━━━━━━━━━━━━━━━━━━━━━━━━━━━━━\u001b[0m \u001b[32m25.0/25.0 MB\u001b[0m \u001b[31m39.7 MB/s\u001b[0m eta \u001b[36m0:00:00\u001b[0m\n",
            "\u001b[?25hRequirement already satisfied: Flask<4 in /usr/local/lib/python3.10/dist-packages (from mlflow) (2.2.5)\n",
            "Collecting alembic!=1.10.0,<2 (from mlflow)\n",
            "  Downloading alembic-1.13.1-py3-none-any.whl (233 kB)\n",
            "\u001b[2K     \u001b[90m━━━━━━━━━━━━━━━━━━━━━━━━━━━━━━━━━━━━━━━━\u001b[0m \u001b[32m233.4/233.4 kB\u001b[0m \u001b[31m23.9 MB/s\u001b[0m eta \u001b[36m0:00:00\u001b[0m\n",
            "\u001b[?25hRequirement already satisfied: cachetools<6,>=5.0.0 in /usr/local/lib/python3.10/dist-packages (from mlflow) (5.3.3)\n",
            "Requirement already satisfied: click<9,>=7.0 in /usr/local/lib/python3.10/dist-packages (from mlflow) (8.1.7)\n",
            "Requirement already satisfied: cloudpickle<4 in /usr/local/lib/python3.10/dist-packages (from mlflow) (2.2.1)\n",
            "Collecting docker<8,>=4.0.0 (from mlflow)\n",
            "  Downloading docker-7.1.0-py3-none-any.whl (147 kB)\n",
            "\u001b[2K     \u001b[90m━━━━━━━━━━━━━━━━━━━━━━━━━━━━━━━━━━━━━━━━\u001b[0m \u001b[32m147.8/147.8 kB\u001b[0m \u001b[31m11.7 MB/s\u001b[0m eta \u001b[36m0:00:00\u001b[0m\n",
            "\u001b[?25hRequirement already satisfied: entrypoints<1 in /usr/local/lib/python3.10/dist-packages (from mlflow) (0.4)\n",
            "Collecting gitpython<4,>=3.1.9 (from mlflow)\n",
            "  Downloading GitPython-3.1.43-py3-none-any.whl (207 kB)\n",
            "\u001b[2K     \u001b[90m━━━━━━━━━━━━━━━━━━━━━━━━━━━━━━━━━━━━━━━━\u001b[0m \u001b[32m207.3/207.3 kB\u001b[0m \u001b[31m18.0 MB/s\u001b[0m eta \u001b[36m0:00:00\u001b[0m\n",
            "\u001b[?25hCollecting graphene<4 (from mlflow)\n",
            "  Downloading graphene-3.3-py2.py3-none-any.whl (128 kB)\n",
            "\u001b[2K     \u001b[90m━━━━━━━━━━━━━━━━━━━━━━━━━━━━━━━━━━━━━━━━\u001b[0m \u001b[32m128.2/128.2 kB\u001b[0m \u001b[31m14.6 MB/s\u001b[0m eta \u001b[36m0:00:00\u001b[0m\n",
            "\u001b[?25hRequirement already satisfied: importlib-metadata!=4.7.0,<8,>=3.7.0 in /usr/local/lib/python3.10/dist-packages (from mlflow) (7.1.0)\n",
            "Requirement already satisfied: markdown<4,>=3.3 in /usr/local/lib/python3.10/dist-packages (from mlflow) (3.6)\n",
            "Requirement already satisfied: matplotlib<4 in /usr/local/lib/python3.10/dist-packages (from mlflow) (3.7.1)\n",
            "Requirement already satisfied: numpy<2 in /usr/local/lib/python3.10/dist-packages (from mlflow) (1.25.2)\n",
            "Collecting opentelemetry-api<3,>=1.0.0 (from mlflow)\n",
            "  Downloading opentelemetry_api-1.25.0-py3-none-any.whl (59 kB)\n",
            "\u001b[2K     \u001b[90m━━━━━━━━━━━━━━━━━━━━━━━━━━━━━━━━━━━━━━━━\u001b[0m \u001b[32m59.9/59.9 kB\u001b[0m \u001b[31m8.5 MB/s\u001b[0m eta \u001b[36m0:00:00\u001b[0m\n",
            "\u001b[?25hCollecting opentelemetry-sdk<3,>=1.0.0 (from mlflow)\n",
            "  Downloading opentelemetry_sdk-1.25.0-py3-none-any.whl (107 kB)\n",
            "\u001b[2K     \u001b[90m━━━━━━━━━━━━━━━━━━━━━━━━━━━━━━━━━━━━━━━━\u001b[0m \u001b[32m107.0/107.0 kB\u001b[0m \u001b[31m11.9 MB/s\u001b[0m eta \u001b[36m0:00:00\u001b[0m\n",
            "\u001b[?25hRequirement already satisfied: packaging<25 in /usr/local/lib/python3.10/dist-packages (from mlflow) (24.1)\n",
            "Requirement already satisfied: pandas<3 in /usr/local/lib/python3.10/dist-packages (from mlflow) (2.0.3)\n",
            "Requirement already satisfied: protobuf<5,>=3.12.0 in /usr/local/lib/python3.10/dist-packages (from mlflow) (3.20.3)\n",
            "Requirement already satisfied: pyarrow<16,>=4.0.0 in /usr/local/lib/python3.10/dist-packages (from mlflow) (14.0.2)\n",
            "Requirement already satisfied: pytz<2025 in /usr/local/lib/python3.10/dist-packages (from mlflow) (2023.4)\n",
            "Requirement already satisfied: pyyaml<7,>=5.1 in /usr/local/lib/python3.10/dist-packages (from mlflow) (6.0.1)\n",
            "Collecting querystring-parser<2 (from mlflow)\n",
            "  Downloading querystring_parser-1.2.4-py2.py3-none-any.whl (7.9 kB)\n",
            "Requirement already satisfied: requests<3,>=2.17.3 in /usr/local/lib/python3.10/dist-packages (from mlflow) (2.31.0)\n",
            "Requirement already satisfied: scikit-learn<2 in /usr/local/lib/python3.10/dist-packages (from mlflow) (1.2.2)\n",
            "Requirement already satisfied: scipy<2 in /usr/local/lib/python3.10/dist-packages (from mlflow) (1.11.4)\n",
            "Requirement already satisfied: sqlalchemy<3,>=1.4.0 in /usr/local/lib/python3.10/dist-packages (from mlflow) (2.0.30)\n",
            "Requirement already satisfied: sqlparse<1,>=0.4.0 in /usr/local/lib/python3.10/dist-packages (from mlflow) (0.5.0)\n",
            "Requirement already satisfied: Jinja2<4,>=2.11 in /usr/local/lib/python3.10/dist-packages (from mlflow) (3.1.4)\n",
            "Collecting gunicorn<23 (from mlflow)\n",
            "  Downloading gunicorn-22.0.0-py3-none-any.whl (84 kB)\n",
            "\u001b[2K     \u001b[90m━━━━━━━━━━━━━━━━━━━━━━━━━━━━━━━━━━━━━━━━\u001b[0m \u001b[32m84.4/84.4 kB\u001b[0m \u001b[31m9.4 MB/s\u001b[0m eta \u001b[36m0:00:00\u001b[0m\n",
            "\u001b[?25hCollecting Mako (from alembic!=1.10.0,<2->mlflow)\n",
            "  Downloading Mako-1.3.5-py3-none-any.whl (78 kB)\n",
            "\u001b[2K     \u001b[90m━━━━━━━━━━━━━━━━━━━━━━━━━━━━━━━━━━━━━━━━\u001b[0m \u001b[32m78.6/78.6 kB\u001b[0m \u001b[31m9.1 MB/s\u001b[0m eta \u001b[36m0:00:00\u001b[0m\n",
            "\u001b[?25hRequirement already satisfied: typing-extensions>=4 in /usr/local/lib/python3.10/dist-packages (from alembic!=1.10.0,<2->mlflow) (4.12.2)\n",
            "Requirement already satisfied: urllib3>=1.26.0 in /usr/local/lib/python3.10/dist-packages (from docker<8,>=4.0.0->mlflow) (2.0.7)\n",
            "Requirement already satisfied: Werkzeug>=2.2.2 in /usr/local/lib/python3.10/dist-packages (from Flask<4->mlflow) (3.0.3)\n",
            "Requirement already satisfied: itsdangerous>=2.0 in /usr/local/lib/python3.10/dist-packages (from Flask<4->mlflow) (2.2.0)\n",
            "Collecting gitdb<5,>=4.0.1 (from gitpython<4,>=3.1.9->mlflow)\n",
            "  Downloading gitdb-4.0.11-py3-none-any.whl (62 kB)\n",
            "\u001b[2K     \u001b[90m━━━━━━━━━━━━━━━━━━━━━━━━━━━━━━━━━━━━━━━━\u001b[0m \u001b[32m62.7/62.7 kB\u001b[0m \u001b[31m8.1 MB/s\u001b[0m eta \u001b[36m0:00:00\u001b[0m\n",
            "\u001b[?25hCollecting graphql-core<3.3,>=3.1 (from graphene<4->mlflow)\n",
            "  Downloading graphql_core-3.2.3-py3-none-any.whl (202 kB)\n",
            "\u001b[2K     \u001b[90m━━━━━━━━━━━━━━━━━━━━━━━━━━━━━━━━━━━━━━━━\u001b[0m \u001b[32m202.9/202.9 kB\u001b[0m \u001b[31m22.3 MB/s\u001b[0m eta \u001b[36m0:00:00\u001b[0m\n",
            "\u001b[?25hCollecting graphql-relay<3.3,>=3.1 (from graphene<4->mlflow)\n",
            "  Downloading graphql_relay-3.2.0-py3-none-any.whl (16 kB)\n",
            "Collecting aniso8601<10,>=8 (from graphene<4->mlflow)\n",
            "  Downloading aniso8601-9.0.1-py2.py3-none-any.whl (52 kB)\n",
            "\u001b[2K     \u001b[90m━━━━━━━━━━━━━━━━━━━━━━━━━━━━━━━━━━━━━━━━\u001b[0m \u001b[32m52.8/52.8 kB\u001b[0m \u001b[31m7.1 MB/s\u001b[0m eta \u001b[36m0:00:00\u001b[0m\n",
            "\u001b[?25hRequirement already satisfied: zipp>=0.5 in /usr/local/lib/python3.10/dist-packages (from importlib-metadata!=4.7.0,<8,>=3.7.0->mlflow) (3.19.2)\n",
            "Requirement already satisfied: MarkupSafe>=2.0 in /usr/local/lib/python3.10/dist-packages (from Jinja2<4,>=2.11->mlflow) (2.1.5)\n",
            "Requirement already satisfied: contourpy>=1.0.1 in /usr/local/lib/python3.10/dist-packages (from matplotlib<4->mlflow) (1.2.1)\n",
            "Requirement already satisfied: cycler>=0.10 in /usr/local/lib/python3.10/dist-packages (from matplotlib<4->mlflow) (0.12.1)\n",
            "Requirement already satisfied: fonttools>=4.22.0 in /usr/local/lib/python3.10/dist-packages (from matplotlib<4->mlflow) (4.53.0)\n",
            "Requirement already satisfied: kiwisolver>=1.0.1 in /usr/local/lib/python3.10/dist-packages (from matplotlib<4->mlflow) (1.4.5)\n",
            "Requirement already satisfied: pillow>=6.2.0 in /usr/local/lib/python3.10/dist-packages (from matplotlib<4->mlflow) (9.4.0)\n",
            "Requirement already satisfied: pyparsing>=2.3.1 in /usr/local/lib/python3.10/dist-packages (from matplotlib<4->mlflow) (3.1.2)\n",
            "Requirement already satisfied: python-dateutil>=2.7 in /usr/local/lib/python3.10/dist-packages (from matplotlib<4->mlflow) (2.8.2)\n",
            "Collecting deprecated>=1.2.6 (from opentelemetry-api<3,>=1.0.0->mlflow)\n",
            "  Downloading Deprecated-1.2.14-py2.py3-none-any.whl (9.6 kB)\n",
            "Collecting opentelemetry-semantic-conventions==0.46b0 (from opentelemetry-sdk<3,>=1.0.0->mlflow)\n",
            "  Downloading opentelemetry_semantic_conventions-0.46b0-py3-none-any.whl (130 kB)\n",
            "\u001b[2K     \u001b[90m━━━━━━━━━━━━━━━━━━━━━━━━━━━━━━━━━━━━━━━━\u001b[0m \u001b[32m130.5/130.5 kB\u001b[0m \u001b[31m15.4 MB/s\u001b[0m eta \u001b[36m0:00:00\u001b[0m\n",
            "\u001b[?25hRequirement already satisfied: tzdata>=2022.1 in /usr/local/lib/python3.10/dist-packages (from pandas<3->mlflow) (2024.1)\n",
            "Requirement already satisfied: six in /usr/local/lib/python3.10/dist-packages (from querystring-parser<2->mlflow) (1.16.0)\n",
            "Requirement already satisfied: charset-normalizer<4,>=2 in /usr/local/lib/python3.10/dist-packages (from requests<3,>=2.17.3->mlflow) (3.3.2)\n",
            "Requirement already satisfied: idna<4,>=2.5 in /usr/local/lib/python3.10/dist-packages (from requests<3,>=2.17.3->mlflow) (3.7)\n",
            "Requirement already satisfied: certifi>=2017.4.17 in /usr/local/lib/python3.10/dist-packages (from requests<3,>=2.17.3->mlflow) (2024.6.2)\n",
            "Requirement already satisfied: joblib>=1.1.1 in /usr/local/lib/python3.10/dist-packages (from scikit-learn<2->mlflow) (1.4.2)\n",
            "Requirement already satisfied: threadpoolctl>=2.0.0 in /usr/local/lib/python3.10/dist-packages (from scikit-learn<2->mlflow) (3.5.0)\n",
            "Requirement already satisfied: greenlet!=0.4.17 in /usr/local/lib/python3.10/dist-packages (from sqlalchemy<3,>=1.4.0->mlflow) (3.0.3)\n",
            "Requirement already satisfied: wrapt<2,>=1.10 in /usr/local/lib/python3.10/dist-packages (from deprecated>=1.2.6->opentelemetry-api<3,>=1.0.0->mlflow) (1.14.1)\n",
            "Collecting smmap<6,>=3.0.1 (from gitdb<5,>=4.0.1->gitpython<4,>=3.1.9->mlflow)\n",
            "  Downloading smmap-5.0.1-py3-none-any.whl (24 kB)\n",
            "Installing collected packages: aniso8601, smmap, querystring-parser, Mako, gunicorn, graphql-core, deprecated, opentelemetry-api, graphql-relay, gitdb, docker, alembic, opentelemetry-semantic-conventions, graphene, gitpython, opentelemetry-sdk, mlflow\n",
            "Successfully installed Mako-1.3.5 alembic-1.13.1 aniso8601-9.0.1 deprecated-1.2.14 docker-7.1.0 gitdb-4.0.11 gitpython-3.1.43 graphene-3.3 graphql-core-3.2.3 graphql-relay-3.2.0 gunicorn-22.0.0 mlflow-2.13.2 opentelemetry-api-1.25.0 opentelemetry-sdk-1.25.0 opentelemetry-semantic-conventions-0.46b0 querystring-parser-1.2.4 smmap-5.0.1\n"
          ]
        }
      ],
      "source": [
        "!pip install mlflow"
      ]
    },
    {
      "cell_type": "code",
      "execution_count": null,
      "metadata": {
        "colab": {
          "base_uri": "https://localhost:8080/"
        },
        "id": "wjSj-QXThKWa",
        "outputId": "10adb3f5-4746-492c-bb1a-a9c98164b6cb"
      },
      "outputs": [
        {
          "output_type": "stream",
          "name": "stdout",
          "text": [
            "-----------------\n",
            " Data Set: FD004 \n",
            "-----------------\n",
            "Train trjectories: 248\n",
            "Test trajectories: 249\n",
            "Conditions: SIX\n",
            "Fault Modes: TWO (HPC Degradation, Fan Degradation)\n",
            "\n",
            "RUL: 100% 249/249 [00:09<00:00, 26.21it/s]\n",
            "augmentation: 100% 747/747 [00:29<00:00, 25.03it/s]\n",
            "-----------------\n",
            " Data Set: FD001 \n",
            "-----------------\n",
            "Train trjectories: 100\n",
            "Test trajectories: 100\n",
            "Conditions: ONE (Sea Level)\n",
            "Fault Modes: ONE (HPC Degradation)\n",
            "\n",
            "RUL: 100% 100/100 [00:04<00:00, 20.43it/s]\n",
            "augmentation: 100% 1000/1000 [00:40<00:00, 24.72it/s]\n",
            "-----------------\n",
            " Data Set: FD002 \n",
            "-----------------\n",
            "Train trjectories: 260\n",
            "Test trajectories: 259\n",
            "Conditions: SIX\n",
            "Fault Modes: ONE (HPC Degradation)\n",
            "\n",
            "RUL: 100% 260/260 [00:10<00:00, 24.72it/s]\n",
            "augmentation: 100% 1000/1000 [00:38<00:00, 26.07it/s]\n",
            "-----------------\n",
            " Data Set: FD003 \n",
            "-----------------\n",
            "Train trjectories: 100\n",
            "Test trajectories: 100\n",
            "Conditions: ONE (Sea Level)\n",
            "Fault Modes: TWO (HPC Degradation, Fan Degradation)\n",
            "\n",
            "RUL: 100% 100/100 [00:04<00:00, 21.36it/s]\n",
            "augmentation: 100% 1000/1000 [00:38<00:00, 25.87it/s]\n",
            "-----------------\n",
            " Data Set: FD004 \n",
            "-----------------\n",
            "Train trjectories: 248\n",
            "Test trajectories: 249\n",
            "Conditions: SIX\n",
            "Fault Modes: TWO (HPC Degradation, Fan Degradation)\n",
            "\n",
            "RUL: 100% 249/249 [00:10<00:00, 23.65it/s]\n",
            "augmentation: 100% 1000/1000 [00:40<00:00, 24.98it/s]\n",
            "-----------------\n",
            " Data Set: FD001 \n",
            "-----------------\n",
            "Train trjectories: 100\n",
            "Test trajectories: 100\n",
            "Conditions: ONE (Sea Level)\n",
            "Fault Modes: ONE (HPC Degradation)\n",
            "\n",
            "RUL: 100% 100/100 [00:03<00:00, 26.91it/s]\n",
            "augmentation: 100% 1000/1000 [00:39<00:00, 25.51it/s]\n",
            "-----------------\n",
            " Data Set: FD002 \n",
            "-----------------\n",
            "Train trjectories: 260\n",
            "Test trajectories: 259\n",
            "Conditions: SIX\n",
            "Fault Modes: ONE (HPC Degradation)\n",
            "\n",
            "RUL: 100% 260/260 [00:11<00:00, 23.19it/s]\n",
            "augmentation: 100% 1000/1000 [00:40<00:00, 24.54it/s]\n",
            "-----------------\n",
            " Data Set: FD003 \n",
            "-----------------\n",
            "Train trjectories: 100\n",
            "Test trajectories: 100\n",
            "Conditions: ONE (Sea Level)\n",
            "Fault Modes: TWO (HPC Degradation, Fan Degradation)\n",
            "\n",
            "RUL: 100% 100/100 [00:03<00:00, 28.19it/s]\n",
            "augmentation: 100% 1000/1000 [00:39<00:00, 25.46it/s]\n",
            "-----------------\n",
            " Data Set: FD004 \n",
            "-----------------\n",
            "Train trjectories: 248\n",
            "Test trajectories: 249\n",
            "Conditions: SIX\n",
            "Fault Modes: TWO (HPC Degradation, Fan Degradation)\n",
            "\n",
            "RUL: 100% 249/249 [00:08<00:00, 28.70it/s]\n",
            "augmentation: 100% 1000/1000 [00:40<00:00, 24.90it/s]\n",
            "Figure(640x480)\n",
            "len of validation:  4\n",
            "------------------------------------------------------------------------\n",
            "DATA FRAME COLUMNS: \n",
            "Index(['lifetime', 'broken', 'unit_number', 'sensor10_max', 'sensor10_mean',\n",
            "       'sensor10_min', 'sensor10_std', 'sensor11_max', 'sensor11_mean',\n",
            "       'sensor11_min', 'sensor11_std', 'sensor12_max', 'sensor12_mean',\n",
            "       'sensor12_min', 'sensor12_std', 'sensor13_max', 'sensor13_mean',\n",
            "       'sensor13_min', 'sensor13_std', 'sensor14_max', 'sensor14_mean',\n",
            "       'sensor14_min', 'sensor14_std', 'sensor15_max', 'sensor15_mean',\n",
            "       'sensor15_min', 'sensor15_std', 'sensor16_max', 'sensor16_mean',\n",
            "       'sensor16_min', 'sensor16_std', 'sensor17_max', 'sensor17_mean',\n",
            "       'sensor17_min', 'sensor17_std', 'sensor18_max', 'sensor18_mean',\n",
            "       'sensor18_min', 'sensor18_std', 'sensor19_max', 'sensor19_mean',\n",
            "       'sensor19_min', 'sensor19_std', 'sensor1_max', 'sensor1_mean',\n",
            "       'sensor1_min', 'sensor1_std', 'sensor20_max', 'sensor20_mean',\n",
            "       'sensor20_min', 'sensor20_std', 'sensor21_max', 'sensor21_mean',\n",
            "       'sensor21_min', 'sensor21_std', 'sensor2_max', 'sensor2_mean',\n",
            "       'sensor2_min', 'sensor2_std', 'sensor3_max', 'sensor3_mean',\n",
            "       'sensor3_min', 'sensor3_std', 'sensor4_max', 'sensor4_mean',\n",
            "       'sensor4_min', 'sensor4_std', 'sensor5_max', 'sensor5_mean',\n",
            "       'sensor5_min', 'sensor5_std', 'sensor6_max', 'sensor6_mean',\n",
            "       'sensor6_min', 'sensor6_std', 'sensor7_max', 'sensor7_mean',\n",
            "       'sensor7_min', 'sensor7_std', 'sensor8_max', 'sensor8_mean',\n",
            "       'sensor8_min', 'sensor8_std', 'sensor9_max', 'sensor9_mean',\n",
            "       'sensor9_min', 'sensor9_std', 'fold'],\n",
            "      dtype='object')\n",
            "------------------------------------------------------------------------\n",
            "TRAIN DATAFRAME FIRST 5 ROWS : \n",
            "   lifetime  broken  unit_number  sensor10_max  ...  sensor9_mean  sensor9_min  sensor9_std  fold\n",
            "1       269       1            2           1.3  ...   8522.055948      8005.94   334.778995     1\n",
            "2       206       1            3           1.3  ...   8511.947379      8007.77   318.426341     1\n",
            "3       235       1            4           1.3  ...   8543.702723      8004.46   338.356730     1\n",
            "4       154       1            5           1.3  ...   8511.127013      8006.91   333.957534     1\n",
            "5       175       1            6           1.3  ...   8520.062457      8005.09   334.541699     1\n",
            "\n",
            "[5 rows x 88 columns]\n",
            "(3608, 88)\n",
            "------------------------------------------------------------------------\n",
            "TEST DATAFRAME FIRST 5 ROWS : \n",
            "   lifetime  broken  unit_number  sensor10_max  ...  sensor9_mean  sensor9_min  sensor9_std  fold\n",
            "0       192       1            1           1.3  ...   9048.265833      9033.22     4.911853     0\n",
            "1       287       1            2           1.3  ...   9062.652439      9044.62    12.491827     0\n",
            "2       179       1            3           1.3  ...   9081.265866      9047.08    35.196825     0\n",
            "3       189       1            4           1.3  ...   9077.366825      9045.33    36.571690     0\n",
            "4       269       1            5           1.3  ...   9083.948253      9056.42    21.404031     0\n",
            "\n",
            "[5 rows x 88 columns]\n",
            "(1100, 88)\n",
            "------------------------------------------------------------------------\n",
            "Training with data of shape (3608, 87)\n",
            "Training model\n",
            "2024/06/13 19:30:54 WARNING mlflow.sklearn: Failed to log training dataset information to MLflow Tracking. Reason: 'Series' object has no attribute 'flatten'\n",
            "2024/06/13 19:30:58 WARNING mlflow.utils.autologging_utils: MLflow autologging encountered a warning: \"/usr/local/lib/python3.10/dist-packages/_distutils_hack/__init__.py:33: UserWarning: Setuptools is replacing distutils.\"\n",
            "MSE: 934.48\n",
            "------------------------------------------------------------------------\n",
            "Saving model with MLFlow to temporary directory\n",
            "Copying MLFlow model to output path\n",
            "  Copying:  MLmodel\n",
            "  Copying:  conda.yaml\n",
            "  Copying:  python_env.yaml\n",
            "  Copying:  requirements.txt\n",
            "  Copying:  model.pkl\n",
            "model saved successfully!!!\n"
          ]
        }
      ],
      "source": [
        "!python /content/drive/MyDrive/NASA_code/script.py"
      ]
    }
  ],
  "metadata": {
    "colab": {
      "provenance": []
    },
    "kernelspec": {
      "display_name": "Python 3",
      "name": "python3"
    },
    "language_info": {
      "name": "python"
    }
  },
  "nbformat": 4,
  "nbformat_minor": 0
}